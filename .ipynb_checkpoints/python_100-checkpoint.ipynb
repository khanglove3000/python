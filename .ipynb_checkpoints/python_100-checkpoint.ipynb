{
 "cells": [
  {
   "cell_type": "code",
   "execution_count": 5,
   "id": "243ee818",
   "metadata": {
    "scrolled": true
   },
   "outputs": [
    {
     "name": "stdout",
     "output_type": "stream",
     "text": [
      "2002,2009,2016,2023,2037,2044,2051,2058,2072,2079,2086,2093,2107,2114,2121,2128,2142,2149,2156,2163,2177,2184,2191,2198,2212,2219,2226,2233,2247,2254,2261,2268,2282,2289,2296,2303,2317,2324,2331,2338,2352,2359,2366,2373,2387,2394,2401,2408,2422,2429,2436,2443,2457,2464,2471,2478,2492,2499,2506,2513,2527,2534,2541,2548,2562,2569,2576,2583,2597,2604,2611,2618,2632,2639,2646,2653,2667,2674,2681,2688,2702,2709,2716,2723,2737,2744,2751,2758,2772,2779,2786,2793,2807,2814,2821,2828,2842,2849,2856,2863,2877,2884,2891,2898,2912,2919,2926,2933,2947,2954,2961,2968,2982,2989,2996,3003,3017,3024,3031,3038,3052,3059,3066,3073,3087,3094,3101,3108,3122,3129,3136,3143,3157,3164,3171,3178,3192,3199\n"
     ]
    }
   ],
   "source": [
    "j = []\n",
    "for i in range(2000, 3201):\n",
    "    if(i%7==0) and (i%5!=0):\n",
    "        j.append(str(i))\n",
    "print (','.join(j))"
   ]
  },
  {
   "cell_type": "code",
   "execution_count": 12,
   "id": "fda21f45",
   "metadata": {},
   "outputs": [
    {
     "name": "stdout",
     "output_type": "stream",
     "text": [
      "Nhap so can tinh giai thua: 4\n",
      "24\n"
     ]
    }
   ],
   "source": [
    "x = int(input(\"Nhap so can tinh giai thua: \"))\n",
    "def fact(x):\n",
    "    if x == 0:\n",
    "        return 1\n",
    "    return x * fact(x-1)\n",
    "print(fact(x))"
   ]
  },
  {
   "cell_type": "code",
   "execution_count": 13,
   "id": "b898c51d",
   "metadata": {},
   "outputs": [
    {
     "name": "stdout",
     "output_type": "stream",
     "text": [
      "Nhap vao mot so3\n",
      "{1: 1, 2: 4, 3: 9}\n"
     ]
    }
   ],
   "source": [
    "n = int(input(\"Nhap vao mot so\"))\n",
    "d = dict()\n",
    "for i in range(1,n+1):\n",
    "    d[i] = i*i\n",
    "print(d)"
   ]
  },
  {
   "cell_type": "code",
   "execution_count": 16,
   "id": "53698263",
   "metadata": {},
   "outputs": [
    {
     "name": "stdout",
     "output_type": "stream",
     "text": [
      "Nhap vao cac gia tri34,67,55,33,12,98\n",
      "['34', '67', '55', '33', '12', '98']\n",
      "('34', '67', '55', '33', '12', '98')\n"
     ]
    }
   ],
   "source": [
    "values = input(\"Nhap vao cac gia tri\")\n",
    "l = values.split(\",\")\n",
    "t = tuple(l)\n",
    "print(l)\n",
    "print(t)"
   ]
  },
  {
   "cell_type": "code",
   "execution_count": 18,
   "id": "7cdd6c51",
   "metadata": {},
   "outputs": [
    {
     "name": "stdout",
     "output_type": "stream",
     "text": [
      "Nhap chuoi: sdfasf\n",
      "SDFASF\n"
     ]
    }
   ],
   "source": [
    "class InputOutString(object):\n",
    "    def __init__(self):\n",
    "        self.s=\"\"\n",
    "        \n",
    "    def getString(self):\n",
    "        self.s = input(\"Nhap chuoi: \")\n",
    "        \n",
    "    def printString(self):\n",
    "        print(self.s.upper())\n",
    "\n",
    "strObj = InputOutString()\n",
    "strObj.getString()\n",
    "strObj.printString()"
   ]
  },
  {
   "cell_type": "code",
   "execution_count": 20,
   "id": "4e705aad",
   "metadata": {},
   "outputs": [
    {
     "name": "stdout",
     "output_type": "stream",
     "text": [
      "Nhap mot so:8\n",
      "64\n"
     ]
    }
   ],
   "source": [
    "x = int(input(\"Nhap mot so:\"))\n",
    "def square(num):\n",
    "    return num**2\n",
    "print(square(x))"
   ]
  },
  {
   "cell_type": "code",
   "execution_count": 22,
   "id": "7dda73f8",
   "metadata": {},
   "outputs": [
    {
     "name": "stdout",
     "output_type": "stream",
     "text": [
      "Return the absolute value of the argument.\n",
      "int([x]) -> integer\n",
      "int(x, base=10) -> integer\n",
      "\n",
      "Convert a number or string to an integer, or return 0 if no arguments\n",
      "are given.  If x is a number, return x.__int__().  For floating point\n",
      "numbers, this truncates towards zero.\n",
      "\n",
      "If x is not a number or if base is given, then x must be a string,\n",
      "bytes, or bytearray instance representing an integer literal in the\n",
      "given base.  The literal can be preceded by '+' or '-' and be surrounded\n",
      "by whitespace.  The base defaults to 10.  Valid bases are 0 and 2-36.\n",
      "Base 0 means to interpret the base from the string as an integer literal.\n",
      ">>> int('0b100', base=0)\n",
      "4\n",
      "Forward raw_input to frontends\n",
      "\n",
      "        Raises\n",
      "        ------\n",
      "        StdinNotImplentedError if active frontend doesn't support stdin.\n",
      "        \n",
      "None\n"
     ]
    }
   ],
   "source": [
    "print(abs.__doc__)\n",
    "print(int.__doc__)\n",
    "print(input.__doc__)\n",
    "\n",
    "def square(num):\n",
    "    return num**2\n",
    "print(square.__doc__)\n",
    "\n"
   ]
  },
  {
   "cell_type": "code",
   "execution_count": 24,
   "id": "9752c5ea",
   "metadata": {},
   "outputs": [
    {
     "name": "stdout",
     "output_type": "stream",
     "text": [
      "person name is Jeffrey\n",
      "person name is Nico\n"
     ]
    }
   ],
   "source": [
    "class Person:\n",
    "    name = \"person\"\n",
    "    \n",
    "    def __init__(self, name=None):\n",
    "        self.name = name\n",
    "        \n",
    "jeffrey = Person(\"Jeffrey\")\n",
    "    \n",
    "print(\"%s name is %s\" % (Person.name, jeffrey.name))\n",
    "\n",
    "nico = Person()\n",
    "nico.name = \"Nico\"\n",
    "print (\"%s name is %s\" % (Person.name, nico.name))\n",
    "    "
   ]
  },
  {
   "cell_type": "code",
   "execution_count": 32,
   "id": "47b1423e",
   "metadata": {},
   "outputs": [
    {
     "name": "stdout",
     "output_type": "stream",
     "text": [
      "Nhập giá trị của d: 123,123\n",
      "20,20\n"
     ]
    }
   ],
   "source": [
    "import math\n",
    "c=50\n",
    "h=30\n",
    "value=[]\n",
    "items=[x for x in input(\"Nhập giá trị của d: \").split(',')]\n",
    "for d in items:\n",
    "    value.append(str(int(round(math.sqrt(2*c*float(d)/h)))))\n",
    "print(','.join(value))"
   ]
  },
  {
   "cell_type": "code",
   "execution_count": 38,
   "id": "2f5bdbb4",
   "metadata": {},
   "outputs": [
    {
     "name": "stdout",
     "output_type": "stream",
     "text": [
      "Nhap X, Y: 3,5\n",
      "[[0, 0, 0, 0, 0], [0, 1, 2, 3, 4], [0, 2, 4, 6, 8]]\n"
     ]
    }
   ],
   "source": [
    "input_str = input(\"Nhap X, Y: \")\n",
    "dimensions = [int(x) for x in input_str.split(',')]\n",
    "rowNum=dimensions[0]\n",
    "colNum=dimensions[1]\n",
    "multilist = [[0 for col in range(colNum)] for row in range(rowNum)]\n",
    "for row in range(rowNum):\n",
    "    for col in range(colNum):\n",
    "        multilist[row][col] = row*col\n",
    "print(multilist)"
   ]
  },
  {
   "cell_type": "code",
   "execution_count": 40,
   "id": "b644325e",
   "metadata": {},
   "outputs": [
    {
     "name": "stdout",
     "output_type": "stream",
     "text": [
      "Nhập một chuỗi: without,hello,bag,world\n",
      "bag,hello,without,world\n"
     ]
    }
   ],
   "source": [
    "items=[x for x in input(\"Nhập một chuỗi: \").split(',')]\n",
    "items.sort()\n",
    "print (','.join(items))"
   ]
  },
  {
   "cell_type": "code",
   "execution_count": 43,
   "id": "69909b9a",
   "metadata": {},
   "outputs": [
    {
     "name": "stdout",
     "output_type": "stream",
     "text": [
      "HELLO WORLD PRACTICE MAKES PERFECT\n",
      "HELLO WORLD PRACTICE MAKES PERFECT\n",
      "\n",
      "HELLO WORLD PRACTICE MAKES PERFECT\n"
     ]
    }
   ],
   "source": [
    "lines = []\n",
    "while True:\n",
    "    s = input()\n",
    "    if s:\n",
    "        lines.append(s.upper())\n",
    "    else:\n",
    "        break;\n",
    "        \n",
    "for sentence in lines:\n",
    "    print(sentence)"
   ]
  },
  {
   "cell_type": "code",
   "execution_count": 93,
   "id": "31c5cb1d",
   "metadata": {},
   "outputs": [
    {
     "name": "stdout",
     "output_type": "stream",
     "text": [
      "nhap chuoi: ello world and practice makes perfect and hello world again\n",
      "again and and ello hello makes perfect practice world world\n"
     ]
    }
   ],
   "source": [
    "s = input(\"nhap chuoi: \")\n",
    "words = [word for word in s.split(\" \")]\n",
    "words.sort()\n",
    "print(' '.join(words))"
   ]
  },
  {
   "cell_type": "code",
   "execution_count": null,
   "id": "9f23145e",
   "metadata": {},
   "outputs": [],
   "source": []
  },
  {
   "cell_type": "code",
   "execution_count": 87,
   "id": "1b25150a",
   "metadata": {},
   "outputs": [
    {
     "name": "stdout",
     "output_type": "stream",
     "text": [
      "Nhập các số nhị phân: 0100,0011,1010,1001\n",
      "1010\n"
     ]
    }
   ],
   "source": [
    "value = []\n",
    "items=[x for x in input(\"Nhập các số nhị phân: \").split(',')]\n",
    "for p in items:\n",
    "    intp = int(p, 2)\n",
    "    if not intp%5:\n",
    "        value.append(p)\n",
    "print (','.join(value))"
   ]
  },
  {
   "cell_type": "code",
   "execution_count": 83,
   "id": "22a3c8c2",
   "metadata": {},
   "outputs": [
    {
     "name": "stdout",
     "output_type": "stream",
     "text": [
      "2000,2002,2004,2006,2008,2020,2022,2024,2026,2028,2040,2042,2044,2046,2048,2060,2062,2064,2066,2068,2080,2082,2084,2086,2088,2200,2202,2204,2206,2208,2220,2222,2224,2226,2228,2240,2242,2244,2246,2248,2260,2262,2264,2266,2268,2280,2282,2284,2286,2288,2400,2402,2404,2406,2408,2420,2422,2424,2426,2428,2440,2442,2444,2446,2448,2460,2462,2464,2466,2468,2480,2482,2484,2486,2488,2600,2602,2604,2606,2608,2620,2622,2624,2626,2628,2640,2642,2644,2646,2648,2660,2662,2664,2666,2668,2680,2682,2684,2686,2688,2800,2802,2804,2806,2808,2820,2822,2824,2826,2828,2840,2842,2844,2846,2848,2860,2862,2864,2866,2868,2880,2882,2884,2886,2888\n"
     ]
    }
   ],
   "source": [
    "values = []\n",
    "for i in range(1000, 3001):\n",
    "    s = str(i)\n",
    "    if (int(s[0])%2==0) and (int(s[1])%2==0) and (int(s[2])%2==0) and (int(s[3])%2==0):\n",
    "            values.append(s)\n",
    "print (\",\".join(values))"
   ]
  },
  {
   "cell_type": "code",
   "execution_count": 96,
   "id": "90b36264",
   "metadata": {},
   "outputs": [
    {
     "name": "stdout",
     "output_type": "stream",
     "text": [
      "Nhap cau cua ban:  Zing NewsTRI THỨC TRỰC TUYẾN   XÃ HỘI  Ông Nguyễn Thành Phong tái đắc cử Chủ tịch UBND TP.HCM Ngọc TânThu Hằng Thứ năm, 24/6/2021 11:34 (GMT+7)Với số phiếu tín nhiệm đạt 89,53%, ông Nguyễn Thành Phong tái đắc cử chức Chủ tịch UBND TP.HCM. Sáng 24/6, các đại biểu HĐND TP.HCM khóa X, nhiệm kỳ 2021-2026, dự kỳ họp thứ nhất của HĐND TP để bầu các chức danh lãnh đạo HĐND và UBND khóa mới.  Chủ tịch HĐND TP.HCM Nguyễn Thị Lệ đã giới thiệu ông Nguyễn Thành Phong, Ủy viên Ban chấp hành Trung ương Đảng, Phó bí thư Thành ủy TP.HCM, Chủ tịch UBND TP.HCM nhiệm kỳ 2016-2021, để đại biểu bầu chức danh Chủ tịch UBND TP.HCM nhiệm kỳ 2021-2026.  Tại kỳ họp, 86/94 đại biểu có mặt đã bầu chức danh Chủ tịch UBND TP.HCM. Số phiếu hợp lệ là 86 phiếu.  Với số phiếu bầu 77/86 phiếu, đạt 89,53%, ông Nguyễn Thành Phong tái đắc cử chức danh Chủ tịch UBND TP.HCM nhiệm kỳ 2021-2026.  Sau khi được bầu làm Chủ tịch UBND TP.HCM, ông Nguyễn Thành Phong đã đọc tờ trình giới thiệu 5 phó chủ tịch UBND TP nhiệm kỳ 2016-2021 gồm ông Võ Văn Hoan, Dương Anh Đức, Ngô Minh Châu, Lê Hòa Bình và bà Phan Thị Thắng.  Kết quả, 5 nhân sự trên tiếp tục được bầu giữ chức phó chủ tịch UBND TP.HCM nhiệm kỳ 2021-2026. Tỷ lệ đắc cử cụ thể: Ông Ngô Minh Châu 90,43%, ông Dương Anh Đức 87,23%, ông Lê Hòa Bình 87,23%, ông Võ Văn Hoan 86,16%, và bà Phan Thị Thắng 81,91%.   Chu tich Nguyen Thanh Phong tai dac cu anh 1 Chủ tịch UBND TP.HCM tái đắc cử nhiệm kỳ 2021-2026. Ảnh: Thuận Thắng. Ông Nguyễn Thành Phong sinh năm 1962, quê quán Bến Tre, có học vị tiến sĩ Kinh tế.  Từ năm 1995, ông Nguyễn Thành Phong đã được bầu làm Chủ tịch đầu tiên của Hội Sinh viên Việt Nam TP.HCM, sau đó làm Phó bí thư Thành đoàn TP.HCM.  Năm 1997, ông Phong được bầu làm đại biểu Quốc hội khóa X. Năm 1999, ông làm Bí thư Thành đoàn TP.HCM. Năm 2002, ông được bầu làm Bí thư Trung ương Đoàn và tái đắc cử đại biểu Quốc hội khóa XI.  Tháng 7/2005, ông Phong được phân công giữ chức Bí thư Thường trực Trung ương Đoàn. Năm 2007, ông được điều động về làm Thành ủy viên Thành ủy TP.HCM, Bí thư quận 2.  Năm 2009, ông Phong được điều động về tham gia Ban chấp hành, Ban Thường vụ Tỉnh ủy Bến Tre, giữ chức Phó bí thư Tỉnh ủy. Từ tháng 10/2010, ông làm Bí thư Tỉnh ủy Bến Tre.  Sau đó, ông Nguyễn Thành Phong được Bộ Chính trị điều động tham gia Ban chấp hành Đảng bộ TP.HCM nhiệm kỳ 2010-2015, tham gia Ban Thường vụ Thành ủy TP.HCM và giữ chức Phó bí thư Thành ủy TP.HCM. Trong Đại hội Đảng bộ TP.HCM nhiệm kỳ 2015-2020, ông tái đắc cử làm Phó bí thư Thành ủy TP.HCM.  Tại kỳ họp lần thứ 20 của HĐND TP khóa VIII, nhiệm kỳ 2011-2016, ông Nguyễn Thành Phong được các đại biểu bầu giữ chức danh Chủ tịch UBND TP.HCM với tỷ lệ phiếu bầu đạt 85%. Ông tiếp tục tái đắc cử vào kỳ họp thứ nhất HĐND TP khóa IX, nhiệm kỳ 2016-2021, với số phiếu 97,14%.   Chủ tịch TP.HCM nói về 5 giải pháp chống dịch trong 7 ngày tới Chủ tịch Nguyễn Thành Phong lo lắng khi TP.HCM ngày càng phát hiện nhiều ca nhiễm không rõ nguồn lây. Ông đặt ra 5 nhóm giải pháp cho thành phố từ nay đến 21/6.    'Thủng ngay từ nhân viên BV Bệnh Nhiệt đới TP.HCM chứ không ở đâu cả' Ông Nguyễn Thành Phong cho rằng Bệnh viện Bệnh Nhiệt đới TP.HCM \"thủng\" ngay từ nhân viên và để lại bài học rất sâu sắc trong phòng, chống dịch.    'Rất đáng lo khi TP.HCM phát hiện nhiều ca nhiễm qua khám sàng lọc' Trước thực tế nhiều ca nhiễm mới được phát hiện qua khám sàng lọc ở bệnh viện rồi từ đó lần ra các chuỗi lây, ông Nguyễn Thành Phong cho rằng đây là điều đáng lo ngại.    Ngày mai, TP.HCM bầu Chủ tịch HĐND và UBND Kỳ họp thứ nhất HĐND TP.HCM sẽ bầu nhiều chức vụ quan trọng như Chủ tịch HĐND, UBND, Hội thẩm nhân dân của TAND TP.HCM, Hội thẩm nhân dân của TAND 16 quận...   Chủ tịch Nguyễn Thành Phong tái đắc cử Tp. Hồ Chí Minh Chủ tịch UBND TP.HCM BẠN CÓ THỂ QUAN TÂM Tim nguoi den phong kham An Phuc Sai Gon o Dong Nai hinh anh Tìm người đến phòng khám An Phúc Sài Gòn ở Đồng Nai  12:47 24/6/2021  XÃ HỘI  Ngành y tế tỉnh Đồng Nai đã phong tỏa một phòng khám tại huyện Trảng Bom và truy vết các trường hợp F1, F2 khi có một nữ bác sĩ nghi mắc Covid-19 từ Bình Thuận đến làm việc.   Ong Le Truong Hai Hieu lam Truong ban Kinh te - Ngan sach HDND TP.HCM hinh anh Ông Lê Trương Hải Hiếu làm Trưởng ban Kinh tế - Ngân sách HĐND TP.HCM  12:41 24/6/2021  XÃ HỘI  Ông Lê Trương Hải Hiếu, Chủ tịch UBND quận 12, được bầu giữ chức danh Trưởng ban Kinh tế - Ngân sách HĐND TP.HCM khoá X với 78/85 phiếu, đạt tỷ lệ 82,928%.   01:08Bat chap lenh cam, nhieu nguoi tu tap hong mat o cau Thu Thiem hinh anh  Bất chấp lệnh cấm, nhiều người tụ tập hóng mát ở cầu Thủ Thiêm  12:26 24/6/2021  XÃ HỘI  TP.HCM thực hiện giãn cách xã hội để ngăn dịch Covid-19 lây lan, nhưng nhiều người dân vẫn chủ quan, đeo khẩu trang không đúng cách, tụ tập ở khu vực cầu Thủ Thiêm (TP Thủ Đức).   Long An phong toa khu dan cu khi phat hien 18 ca nghi mac Covid-19 hinh anh Long An phong tỏa khu dân cư khi phát hiện 18 ca nghi mắc Covid-19  11:23 24/6/2021  XÃ HỘI  Sau khi phát hiện 18 ca nghi mắc Covid-19, ngành y tế Long An đã phong tỏa một khu dân cư tại xã Phước Lý, huyện Cần Giuộc. 29 trường hợp F1 đã được đưa đi cách ly tập trung.   Ong Pham Nhat Vuong: Xe dien VinFast se khong kem gi Tesla hinh anh Ông Phạm Nhật Vượng: Xe điện VinFast sẽ không kém gì Tesla  10:37 24/6/2021  KINH DOANH  Chủ tịch Vingroup Phạm Nhật Vượng tự tin nhấn mạnh xe điện của hãng không kém gì Tesla. Tuy nhiên, VinFast không cạnh tranh với xe điện, mà nhắm đến khách chuyển từ xe xăng sang.   Thung container lat xuong duong, quoc lo 1 un tac 4 km hinh anh Thùng container lật xuống đường, quốc lộ 1 ùn tắc 4 km  10:35 24/6/2021  XÃ HỘI  Xe đầu kéo đang chạy trên quốc lộ 1 bất ngờ lao lên dải phân cách. Thùng container trên phương tiện này rơi xuống đường khiến giao thông ùn tắc nghiêm trọng.   Tam dong cua phong giao dich ngan hang Eximbank o Phan Xich Long hinh anh Tạm đóng cửa phòng giao dịch ngân hàng Eximbank ở Phan Xích Long  21:04 23/6/2021  XÃ HỘI  Cơ quan chức năng kêu gọi người dân từng đến ngân hàng Eximbank ở Phan Xích Long từ 15h đến 16h ngày 9/6 cần liên hệ tới các cơ sở y tế địa phương để khai báo.   TP.HCM tim nguoi tung toi cho dau moi Binh Dien, Hoc Mon hinh anh TP.HCM tìm người từng tới chợ đầu mối Bình Điền, Hóc Môn  21:00 23/6/2021  XÃ HỘI  Ngành y tế TP.HCM kêu gọi những người từng đến các khu chợ liên quan bệnh nhân Covid-19 cần thông báo với cơ quan chức năng để được xét nghiệm.   XEM NHIỀU XEM THÊM logo Zing News Tạp chí điện tử Tri thức trực tuyến Cơ quan chủ quản: Hội Xuất bản Việt Nam Giấy phép báo chí: số 75/GP-BTTTT © 2021 Toàn bộ bản quyền thuộc Tri thức trực tuyến  Tòa soạn: Tầng 7, D29 Phạm Văn Bạch, Quận Cầu Giấy, Hà Nội Hotline: 0931.222.666 - Email: toasoan@zing.vn Liên hệ | Tuyển dụng | Quảng cáo  ZingNewsTRI THỨC TRỰC TUYẾN\n",
      "Số chữ cái là: 4665\n",
      "Số chữ số là: 356\n"
     ]
    }
   ],
   "source": [
    "s = input(\"Nhap cau cua ban: \")\n",
    "d = {\"DIGITS\":0, \"LETTERS\":0}\n",
    "for c in s:\n",
    "    if c.isdigit():\n",
    "        d[\"DIGITS\"]+=1\n",
    "    elif c.isalpha():\n",
    "        d[\"LETTERS\"] +=1\n",
    "print (\"Số chữ cái là:\", d[\"LETTERS\"])\n",
    "print (\"Số chữ số là:\", d[\"DIGITS\"])"
   ]
  },
  {
   "cell_type": "code",
   "execution_count": 100,
   "id": "2e394b2a",
   "metadata": {},
   "outputs": [
    {
     "name": "stdout",
     "output_type": "stream",
     "text": [
      "Nhap cau cua ban: Nhap cau cua ban:  Zing NewsTRI THỨC TRỰC TUYẾN   XÃ HỘI  Ông Nguyễn Thành Phong tái đắc cử Chủ tịch UBND TP.HCM Ngọc TânThu Hằng Thứ năm, 24/6/2021 11:34 (GMT+7)Với số phiếu tín nhiệm đạt 89,53%, ông Nguyễn Thành Phong tái đắc cử chức Chủ tịch UBND TP.HCM. Sáng 24/6, các đại biểu HĐND TP.HCM khóa X, nhiệm kỳ 2021-2026, dự kỳ họp thứ nhất của HĐND TP để bầu các chức danh lãnh đạo HĐND và UBND khóa mới.  Chủ tịch HĐND TP.HCM Nguyễn Thị Lệ đã giới thiệu ông Nguyễn Thành Phong, Ủy viên Ban chấp hành Trung ương Đảng, Phó bí thư Thành ủy TP.HCM, Chủ tịch UBND TP.HCM nhiệm kỳ 2016-2021, để đại biểu bầu chức danh Chủ tịch UBND TP.HCM nhiệm kỳ 2021-2026.  Tại kỳ họp, 86/94 đại biểu có mặt đã bầu chức danh Chủ tịch UBND TP.HCM. Số phiếu hợp lệ là 86 phiếu.  Với số phiếu bầu 77/86 phiếu, đạt 89,53%, ông Nguyễn Thành Phong tái đắc cử chức danh Chủ tịch UBND TP.HCM nhiệm kỳ 2021-2026.  Sau khi được bầu làm Chủ tịch UBND TP.HCM, ông Nguyễn Thành Phong đã đọc tờ trình giới thiệu 5 phó chủ tịch UBND TP nhiệm kỳ 2016-2021 gồm ông Võ Văn Hoan, Dương Anh Đức, Ngô Minh Châu, Lê Hòa Bình và bà Phan Thị Thắng.  Kết quả, 5 nhân sự trên tiếp tục được bầu giữ chức phó chủ tịch UBND TP.HCM nhiệm kỳ 2021-2026. Tỷ lệ đắc cử cụ thể: Ông Ngô Minh Châu 90,43%, ông Dương Anh Đức 87,23%, ông Lê Hòa Bình 87,23%, ông Võ Văn Hoan 86,16%, và bà Phan Thị Thắng 81,91%.   Chu tich Nguyen Thanh Phong tai dac cu anh 1 Chủ tịch UBND TP.HCM tái đắc cử nhiệm kỳ 2021-2026. Ảnh: Thuận Thắng. Ông Nguyễn Thành Phong sinh năm 1962, quê quán Bến Tre, có học vị tiến sĩ Kinh tế.  Từ năm 1995, ông Nguyễn Thành Phong đã được bầu làm Chủ tịch đầu tiên của Hội Sinh viên Việt Nam TP.HCM, sau đó làm Phó bí thư Thành đoàn TP.HCM.  Năm 1997, ông Phong được bầu làm đại biểu Quốc hội khóa X. Năm 1999, ông làm Bí thư Thành đoàn TP.HCM. Năm 2002, ông được bầu làm Bí thư Trung ương Đoàn và tái đắc cử đại biểu Quốc hội khóa XI.  Tháng 7/2005, ông Phong được phân công giữ chức Bí thư Thường trực Trung ương Đoàn. Năm 2007, ông được điều động về làm Thành ủy viên Thành ủy TP.HCM, Bí thư quận 2.  Năm 2009, ông Phong được điều động về tham gia Ban chấp hành, Ban Thường vụ Tỉnh ủy Bến Tre, giữ chức Phó bí thư Tỉnh ủy. Từ tháng 10/2010, ông làm Bí thư Tỉnh ủy Bến Tre.  Sau đó, ông Nguyễn Thành Phong được Bộ Chính trị điều động tham gia Ban chấp hành Đảng bộ TP.HCM nhiệm kỳ 2010-2015, tham gia Ban Thường vụ Thành ủy TP.HCM và giữ chức Phó bí thư Thành ủy TP.HCM. Trong Đại hội Đảng bộ TP.HCM nhiệm kỳ 2015-2020, ông tái đắc cử làm Phó bí thư Thành ủy TP.HCM.  Tại kỳ họp lần thứ 20 của HĐND TP khóa VIII, nhiệm kỳ 2011-2016, ông Nguyễn Thành Phong được các đại biểu bầu giữ chức danh Chủ tịch UBND TP.HCM với tỷ lệ phiếu bầu đạt 85%. Ông tiếp tục tái đắc cử vào kỳ họp thứ nhất HĐND TP khóa IX, nhiệm kỳ 2016-2021, với số phiếu 97,14%.   Chủ tịch TP.HCM nói về 5 giải pháp chống dịch trong 7 ngày tới Chủ tịch Nguyễn Thành Phong lo lắng khi TP.HCM ngày càng phát hiện nhiều ca nhiễm không rõ nguồn lây. Ông đặt ra 5 nhóm giải pháp cho thành phố từ nay đến 21/6.    'Thủng ngay từ nhân viên BV Bệnh Nhiệt đới TP.HCM chứ không ở đâu cả' Ông Nguyễn Thành Phong cho rằng Bệnh viện Bệnh Nhiệt đới TP.HCM \"thủng\" ngay từ nhân viên và để lại bài học rất sâu sắc trong phòng, chống dịch.    'Rất đáng lo khi TP.HCM phát hiện nhiều ca nhiễm qua khám sàng lọc' Trước thực tế nhiều ca nhiễm mới được phát hiện qua khám sàng lọc ở bệnh viện rồi từ đó lần ra các chuỗi lây, ông Nguyễn Thành Phong cho rằng đây là điều đáng lo ngại.    Ngày mai, TP.HCM bầu Chủ tịch HĐND và UBND Kỳ họp thứ nhất HĐND TP.HCM sẽ bầu nhiều chức vụ quan trọng như Chủ tịch HĐND, UBND, Hội thẩm nhân dân của TAND TP.HCM, Hội thẩm nhân dân của TAND 16 quận...   Chủ tịch Nguyễn Thành Phong tái đắc cử Tp. Hồ Chí Minh Chủ tịch UBND TP.HCM BẠN CÓ THỂ QUAN TÂM Tim nguoi den phong kham An Phuc Sai Gon o Dong Nai hinh anh Tìm người đến phòng khám An Phúc Sài Gòn ở Đồng Nai  12:47 24/6/2021  XÃ HỘI  Ngành y tế tỉnh Đồng Nai đã phong tỏa một phòng khám tại huyện Trảng Bom và truy vết các trường hợp F1, F2 khi có một nữ bác sĩ nghi mắc Covid-19 từ Bình Thuận đến làm việc.   Ong Le Truong Hai Hieu lam Truong ban Kinh te - Ngan sach HDND TP.HCM hinh anh Ông Lê Trương Hải Hiếu làm Trưởng ban Kinh tế - Ngân sách HĐND TP.HCM  12:41 24/6/2021  XÃ HỘI  Ông Lê Trương Hải Hiếu, Chủ tịch UBND quận 12, được bầu giữ chức danh Trưởng ban Kinh tế - Ngân sách HĐND TP.HCM khoá X với 78/85 phiếu, đạt tỷ lệ 82,928%.   01:08Bat chap lenh cam, nhieu nguoi tu tap hong mat o cau Thu Thiem hinh anh  Bất chấp lệnh cấm, nhiều người tụ tập hóng mát ở cầu Thủ Thiêm  12:26 24/6/2021  XÃ HỘI  TP.HCM thực hiện giãn cách xã hội để ngăn dịch Covid-19 lây lan, nhưng nhiều người dân vẫn chủ quan, đeo khẩu trang không đúng cách, tụ tập ở khu vực cầu Thủ Thiêm (TP Thủ Đức).   Long An phong toa khu dan cu khi phat hien 18 ca nghi mac Covid-19 hinh anh Long An phong tỏa khu dân cư khi phát hiện 18 ca nghi mắc Covid-19  11:23 24/6/2021  XÃ HỘI  Sau khi phát hiện 18 ca nghi mắc Covid-19, ngành y tế Long An đã phong tỏa một khu dân cư tại xã Phước Lý, huyện Cần Giuộc. 29 trường hợp F1 đã được đưa đi cách ly tập trung.   Ong Pham Nhat Vuong: Xe dien VinFast se khong kem gi Tesla hinh anh Ông Phạm Nhật Vượng: Xe điện VinFast sẽ không kém gì Tesla  10:37 24/6/2021  KINH DOANH  Chủ tịch Vingroup Phạm Nhật Vượng tự tin nhấn mạnh xe điện của hãng không kém gì Tesla. Tuy nhiên, VinFast không cạnh tranh với xe điện, mà nhắm đến khách chuyển từ xe xăng sang.   Thung container lat xuong duong, quoc lo 1 un tac 4 km hinh anh Thùng container lật xuống đường, quốc lộ 1 ùn tắc 4 km  10:35 24/6/2021  XÃ HỘI  Xe đầu kéo đang chạy trên quốc lộ 1 bất ngờ lao lên dải phân cách. Thùng container trên phương tiện này rơi xuống đường khiến giao thông ùn tắc nghiêm trọng.   Tam dong cua phong giao dich ngan hang Eximbank o Phan Xich Long hinh anh Tạm đóng cửa phòng giao dịch ngân hàng Eximbank ở Phan Xích Long  21:04 23/6/2021  XÃ HỘI  Cơ quan chức năng kêu gọi người dân từng đến ngân hàng Eximbank ở Phan Xích Long từ 15h đến 16h ngày 9/6 cần liên hệ tới các cơ sở y tế địa phương để khai báo.   TP.HCM tim nguoi tung toi cho dau moi Binh Dien, Hoc Mon hinh anh TP.HCM tìm người từng tới chợ đầu mối Bình Điền, Hóc Môn  21:00 23/6/2021  XÃ HỘI  Ngành y tế TP.HCM kêu gọi những người từng đến các khu chợ liên quan bệnh nhân Covid-19 cần thông báo với cơ quan chức năng để được xét nghiệm.   XEM NHIỀU XEM THÊM logo Zing News Tạp chí điện tử Tri thức trực tuyến Cơ quan chủ quản: Hội Xuất bản Việt Nam Giấy phép báo chí: số 75/GP-BTTTT © 2021 Toàn bộ bản quyền thuộc Tri thức trực tuyến  Tòa soạn: Tầng 7, D29 Phạm Văn Bạch, Quận Cầu Giấy, Hà Nội Hotline: 0931.222.666 - Email: toasoan@zing.vn Liên hệ | Tuyển dụng | Quảng cáo  ZingNewsTRI THỨC TRỰC TUYẾN Số chữ cái là: 4665 Số chữ số là: 356\n",
      "Chữ hoa: 817\n",
      "Chữ thường: 3880\n"
     ]
    }
   ],
   "source": [
    "s = input(\"Nhap cau cua ban: \")\n",
    "d = {\"UPPER CASE\":0, \"LOWER CASE\":0}\n",
    "for c in s:\n",
    "    if c.isupper():\n",
    "        d[\"UPPER CASE\"]+=1\n",
    "    elif c.islower():\n",
    "        d[\"LOWER CASE\"]+=1\n",
    "print (\"Chữ hoa:\", d[\"UPPER CASE\"])\n",
    "print (\"Chữ thường:\", d[\"LOWER CASE\"])"
   ]
  },
  {
   "cell_type": "code",
   "execution_count": 108,
   "id": "c9dcddaa",
   "metadata": {},
   "outputs": [
    {
     "name": "stdout",
     "output_type": "stream",
     "text": [
      "Nhập dãy số của bạn, cách nhau bởi dấu phẩy: 1,2,3,4,5,6,7,8,9 \n",
      "1,3,5,7,9 \n"
     ]
    }
   ],
   "source": [
    "values = input(\"Nhập dãy số của bạn, cách nhau bởi dấu phẩy: \")\n",
    "numbers = [x for x in values.split(\",\") if int(x)%2!=0]\n",
    "print(\",\".join(numbers))"
   ]
  },
  {
   "cell_type": "code",
   "execution_count": 111,
   "id": "3485d565",
   "metadata": {},
   "outputs": [
    {
     "name": "stdout",
     "output_type": "stream",
     "text": [
      "Nhap nhat ky giao dich: D 300\n",
      "Nhap nhat ky giao dich: D 200\n",
      "Nhap nhat ky giao dich: W 300\n",
      "Nhap nhat ky giao dich: D 300\n",
      "Nhap nhat ky giao dich: \n",
      "500\n"
     ]
    }
   ],
   "source": [
    "import sys\n",
    "netAmount = 0\n",
    "while True:\n",
    "    s = input(\"Nhap nhat ky giao dich: \")\n",
    "    if not s:\n",
    "        break\n",
    "    values = s.split(\" \")\n",
    "    operation = values[0]\n",
    "    amount = int(values[1])\n",
    "    if operation==\"D\":\n",
    "        netAmount+=amount\n",
    "    elif operation==\"W\":\n",
    "        netAmount-=amount\n",
    "    else:\n",
    "        pass\n",
    "print(netAmount)"
   ]
  },
  {
   "cell_type": "code",
   "execution_count": 121,
   "id": "76e9be3f",
   "metadata": {},
   "outputs": [
    {
     "name": "stdout",
     "output_type": "stream",
     "text": [
      "Nhập mật khẩu: ABd1234@1,a F1#,2w3E*,2We3345\n",
      "ABd1234@1\n"
     ]
    }
   ],
   "source": [
    "import re\n",
    "value = []\n",
    "items=[x for x in input(\"Nhập mật khẩu: \").split(',')]\n",
    "for p in items:\n",
    "    if len(p)<6 or len(p)>12:\n",
    "        continue\n",
    "    else:\n",
    "        pass\n",
    "    if not re.search(\"[a-z]\",p):\n",
    "        continue\n",
    "    elif not re.search(\"[0-9]\",p):\n",
    "        continue\n",
    "    elif not re.search(\"[A-Z]\",p):\n",
    "        continue\n",
    "    elif not re.search(\"[$#@]\",p):\n",
    "        continue\n",
    "    elif re.search(\"\\s\",p):\n",
    "        continue\n",
    "    else:\n",
    "        pass\n",
    "    value.append(p)\n",
    "print (\",\".join(value))"
   ]
  },
  {
   "cell_type": "code",
   "execution_count": 130,
   "id": "023e56ea",
   "metadata": {},
   "outputs": [
    {
     "name": "stdout",
     "output_type": "stream",
     "text": [
      "John,20,90\n",
      "\n",
      "[('John', '20', '90')]\n"
     ]
    }
   ],
   "source": [
    "from operator import itemgetter, attrgetter\n",
    "l = []\n",
    "while True:\n",
    "    s = input()\n",
    "    if not s:\n",
    "        break\n",
    "    l.append(tuple(s.split(\",\")))\n",
    "print(sorted(l, key=itemgetter(0,1,2)))\n"
   ]
  },
  {
   "cell_type": "code",
   "execution_count": 131,
   "id": "ea4fc86a",
   "metadata": {},
   "outputs": [
    {
     "name": "stdout",
     "output_type": "stream",
     "text": [
      "0\n",
      "7\n",
      "14\n",
      "21\n",
      "28\n",
      "35\n",
      "42\n",
      "49\n",
      "56\n",
      "63\n",
      "70\n",
      "77\n",
      "84\n",
      "91\n",
      "98\n"
     ]
    }
   ],
   "source": [
    "def putNumbers(n):\n",
    "    i = 0\n",
    "    while i<n:\n",
    "        j=i\n",
    "        i=i+1\n",
    "        if j%7==0:\n",
    "            yield j\n",
    "for i in putNumbers(100):\n",
    "    print(i)"
   ]
  },
  {
   "cell_type": "code",
   "execution_count": 132,
   "id": "4acb75b5",
   "metadata": {},
   "outputs": [
    {
     "name": "stdout",
     "output_type": "stream",
     "text": [
      "UP 5\n",
      "DOWN 3\n",
      "LEFT 3\n",
      "RIGHT 2\n",
      "\n",
      "2\n"
     ]
    }
   ],
   "source": [
    "import math\n",
    "pos = [0,0]\n",
    "while True:\n",
    "    s = input()\n",
    "    if not s:\n",
    "        break\n",
    "    movement = s.split(\" \")\n",
    "    direction = movement[0]\n",
    "    steps = int(movement[1])\n",
    "    if direction == \"UP\":\n",
    "        pos[0]+=steps\n",
    "    elif direction == \"DOWN\":\n",
    "        pos[0]-=steps\n",
    "    elif direction == \"LEFT\":\n",
    "        pos[1]-=steps\n",
    "    elif direction == \"RIGHT\":\n",
    "        pos[1]+=steps\n",
    "    else:\n",
    "        pass\n",
    "print(int(round(math.sqrt(pos[1]**2+pos[0]**2))))"
   ]
  },
  {
   "cell_type": "code",
   "execution_count": 138,
   "id": "49f1d625",
   "metadata": {},
   "outputs": [
    {
     "name": "stdout",
     "output_type": "stream",
     "text": [
      "New to Python or choosing between Python 2 and Python 3? Read Python 2 or Python 3.\n",
      "2:2\n",
      "3.:1\n",
      "3?:1\n",
      "New:1\n",
      "Python:5\n",
      "Read:1\n",
      "and:1\n",
      "between:1\n",
      "choosing:1\n",
      "or:2\n",
      "to:1\n"
     ]
    }
   ],
   "source": [
    "freq = {}\n",
    "line = input()\n",
    "for word in line.split():\n",
    "    freq[word] = freq.get(word,0)+1\n",
    "words = sorted(freq.keys())\n",
    "for w in words:\n",
    "    print(\"%s:%d\" % (w,freq[w]))"
   ]
  },
  {
   "cell_type": "code",
   "execution_count": 139,
   "id": "a178a4e1",
   "metadata": {},
   "outputs": [
    {
     "name": "stdout",
     "output_type": "stream",
     "text": [
      "12\n"
     ]
    }
   ],
   "source": [
    "def SumFunction(number1, number2): #định nghĩa hàm tính tổng\n",
    "    return number1+number2\n",
    "print (SumFunction(5,7)) #in tổng 2 số 5 và 7"
   ]
  },
  {
   "cell_type": "code",
   "execution_count": 140,
   "id": "84a8f2f2",
   "metadata": {},
   "outputs": [
    {
     "name": "stdout",
     "output_type": "stream",
     "text": [
      "7\n"
     ]
    }
   ],
   "source": [
    "def printValue(s1,s2):\n",
    "    print (int(s1)+int(s2))\n",
    "printValue(\"3\",\"4\")"
   ]
  },
  {
   "cell_type": "code",
   "execution_count": 141,
   "id": "039daaad",
   "metadata": {},
   "outputs": [
    {
     "name": "stdout",
     "output_type": "stream",
     "text": [
      "{1: 1, 2: 4, 3: 9}\n"
     ]
    }
   ],
   "source": [
    "def printDict():\n",
    "    d=dict() \n",
    "    d[1]=1 \n",
    "    d[2]=2**2 \n",
    "    d[3]=3**2 \n",
    "    print (d) \n",
    "printDict()"
   ]
  },
  {
   "cell_type": "code",
   "execution_count": 142,
   "id": "6ec6a680",
   "metadata": {},
   "outputs": [
    {
     "name": "stdout",
     "output_type": "stream",
     "text": [
      "{1: 1, 2: 4, 3: 9, 4: 16, 5: 25, 6: 36, 7: 49, 8: 64, 9: 81, 10: 100, 11: 121, 12: 144, 13: 169, 14: 196, 15: 225, 16: 256, 17: 289, 18: 324, 19: 361, 20: 400}\n"
     ]
    }
   ],
   "source": [
    "def printDict():\n",
    "    d=dict() \n",
    "    for i in range(1,21): \n",
    "       d[i]=i**2 \n",
    "    print (d) \n",
    "printDict()"
   ]
  },
  {
   "cell_type": "code",
   "execution_count": 144,
   "id": "6257de66",
   "metadata": {
    "scrolled": true
   },
   "outputs": [
    {
     "name": "stdout",
     "output_type": "stream",
     "text": [
      "1\n",
      "4\n",
      "9\n",
      "16\n",
      "25\n",
      "36\n",
      "49\n",
      "64\n",
      "81\n",
      "100\n",
      "121\n",
      "144\n",
      "169\n",
      "196\n",
      "225\n",
      "256\n",
      "289\n",
      "324\n",
      "361\n",
      "400\n"
     ]
    }
   ],
   "source": [
    "def printDict():\n",
    "    d=dict()\n",
    "    for i in range(1,21):\n",
    "        d[i]=i**2\n",
    "    for (k,v) in d.items():\n",
    "        print(v)\n",
    "printDict()"
   ]
  },
  {
   "cell_type": "code",
   "execution_count": 152,
   "id": "37ce8822",
   "metadata": {},
   "outputs": [
    {
     "name": "stdout",
     "output_type": "stream",
     "text": [
      "(1, 2, 3, 4, 5)\n",
      "(6, 7, 8, 9, 10)\n"
     ]
    }
   ],
   "source": [
    "tp=(1,2,3,4,5,6,7,8,9,10)\n",
    "tp1=tp[:5]\n",
    "tp2=tp[5:]\n",
    "print (tp1)\n",
    "print (tp2) "
   ]
  },
  {
   "cell_type": "code",
   "execution_count": 154,
   "id": "bf9230fe",
   "metadata": {},
   "outputs": [
    {
     "name": "stdout",
     "output_type": "stream",
     "text": [
      "Nhập chuỗi: Yes\n",
      "Yes\n"
     ]
    }
   ],
   "source": [
    "s = input (\"Nhập chuỗi: \")\n",
    "if s == \"yes\" or s == \"YES\" or s == \"Yes\":\n",
    "   print (\"Yes\")\n",
    "else:\n",
    "    print (\"No\")"
   ]
  },
  {
   "cell_type": "code",
   "execution_count": 163,
   "id": "63c6a017",
   "metadata": {},
   "outputs": [
    {
     "name": "stdout",
     "output_type": "stream",
     "text": [
      "Vietnam\n",
      "Vietnam\n"
     ]
    }
   ],
   "source": [
    "class Vietnam (object):\n",
    "    @staticmethod\n",
    "    def printNationality ():\n",
    "        print (\"Vietnam\")\n",
    "VietnamVodich = Vietnam ()\n",
    "VietnamVodich.printNationality ()\n",
    "Vietnam.printNationality ()"
   ]
  },
  {
   "cell_type": "code",
   "execution_count": 164,
   "id": "3e8f9099",
   "metadata": {},
   "outputs": [
    {
     "name": "stdout",
     "output_type": "stream",
     "text": [
      "<__main__.Vietnam object at 0x7f51ce72e710>\n",
      "<__main__.Hanoi object at 0x7f51ce72e6d0>\n"
     ]
    }
   ],
   "source": [
    "class Vietnam(object):\n",
    "    pass\n",
    "\n",
    "class Hanoi(Vietnam):\n",
    "    pass\n",
    "VietnamVodich = Vietnam()\n",
    "NguoiHanoi = Hanoi()\n",
    "print (VietnamVodich)\n",
    "print (NguoiHanoi)"
   ]
  },
  {
   "cell_type": "code",
   "execution_count": null,
   "id": "424f1cda",
   "metadata": {},
   "outputs": [],
   "source": []
  },
  {
   "cell_type": "code",
   "execution_count": 165,
   "id": "1010d3f8",
   "metadata": {},
   "outputs": [
    {
     "name": "stdout",
     "output_type": "stream",
     "text": [
      "12.56\n"
     ]
    }
   ],
   "source": [
    "class Circle(object):\n",
    "    def __init__(self, r):\n",
    "        self.radius=r\n",
    "    \n",
    "    def area(self):\n",
    "        return self.radius**2*3.14\n",
    "aCircle = Circle(2)\n",
    "print (aCircle.area())\n"
   ]
  },
  {
   "cell_type": "code",
   "execution_count": 166,
   "id": "b735843b",
   "metadata": {},
   "outputs": [
    {
     "name": "stdout",
     "output_type": "stream",
     "text": [
      "20\n"
     ]
    }
   ],
   "source": [
    "class Hinhchunhat(object):\n",
    "    def __init__(self, l, w):\n",
    "        self.dai = l\n",
    "        self.rong = w\n",
    "        \n",
    "    def area(self):\n",
    "        return self.dai*self.rong\n",
    "    \n",
    "aHinhchunhat = Hinhchunhat(10,2)\n",
    "print(aHinhchunhat.area())"
   ]
  },
  {
   "cell_type": "code",
   "execution_count": 169,
   "id": "6937ff05",
   "metadata": {},
   "outputs": [
    {
     "name": "stdout",
     "output_type": "stream",
     "text": [
      "9\n"
     ]
    }
   ],
   "source": [
    "class Shape(object):\n",
    "    def __init__(self):\n",
    "       pass\n",
    "\n",
    "    def area(self):\n",
    "       return 0\n",
    "class Square(Shape):\n",
    "    def __init__(self, l):\n",
    "       Shape.__init__(self)\n",
    "       self.length = l\n",
    "\n",
    "    def area(self):\n",
    "       return self.length*self.length\n",
    "\n",
    "aSquare= Square(3)\n",
    "print (aSquare.area())"
   ]
  },
  {
   "cell_type": "code",
   "execution_count": 170,
   "id": "675fdc05",
   "metadata": {},
   "outputs": [
    {
     "ename": "RuntimeError",
     "evalue": "something wrong",
     "output_type": "error",
     "traceback": [
      "\u001b[0;31m---------------------------------------------------------------------------\u001b[0m",
      "\u001b[0;31mRuntimeError\u001b[0m                              Traceback (most recent call last)",
      "\u001b[0;32m<ipython-input-170-53fba0153627>\u001b[0m in \u001b[0;36m<module>\u001b[0;34m\u001b[0m\n\u001b[0;32m----> 1\u001b[0;31m \u001b[0;32mraise\u001b[0m \u001b[0mRuntimeError\u001b[0m\u001b[0;34m(\u001b[0m\u001b[0;34m'something wrong'\u001b[0m\u001b[0;34m)\u001b[0m\u001b[0;34m\u001b[0m\u001b[0;34m\u001b[0m\u001b[0m\n\u001b[0m",
      "\u001b[0;31mRuntimeError\u001b[0m: something wrong"
     ]
    }
   ],
   "source": [
    "raise RuntimeError('something wrong')"
   ]
  },
  {
   "cell_type": "code",
   "execution_count": 171,
   "id": "6a5ce9d6",
   "metadata": {},
   "outputs": [
    {
     "name": "stdout",
     "output_type": "stream",
     "text": [
      "And now, the Vocational Guidance Counsellor Sketch.\n",
      "Vocation problem: Does not have proper hat\n"
     ]
    }
   ],
   "source": [
    "class RuntimeError(Exception):\n",
    "    def __init__(self, mismatch):\n",
    "        Exception.__init__(self, mismatch)\n",
    "try:\n",
    "    print (\"And now, the Vocational Guidance Counsellor Sketch.\")\n",
    "    raise RuntimeError(\"Does not have proper hat\")\n",
    "    print (\"This print statement will not be reached.\")\n",
    "except RuntimeError as problem:\n",
    "    print (\"Vocation problem: {0}\".format(problem))"
   ]
  },
  {
   "cell_type": "code",
   "execution_count": 172,
   "id": "558d4d6d",
   "metadata": {},
   "outputs": [
    {
     "name": "stdout",
     "output_type": "stream",
     "text": [
      "Chia một số cho 0!\n",
      "Phép tính bị hủy\n"
     ]
    }
   ],
   "source": [
    "def throws():\n",
    "    return 5/0\n",
    "try:\n",
    "    throws()\n",
    "except ZeroDivisionError:\n",
    "    print (\"Chia một số cho 0!\")\n",
    "except Exception as problem:\n",
    "    print ('Bắt được một exception')\n",
    "finally:\n",
    "    print ('Phép tính bị hủy')\n",
    "    "
   ]
  },
  {
   "cell_type": "code",
   "execution_count": 174,
   "id": "e2727793",
   "metadata": {},
   "outputs": [
    {
     "name": "stdout",
     "output_type": "stream",
     "text": [
      "co gi do sai sai\n"
     ]
    }
   ],
   "source": [
    "class MyError(Exception):\n",
    "    def __init__(self, msg):\n",
    "        self.msg = msg\n",
    "error = MyError(\"co gi do sai sai\")\n",
    "print(error)"
   ]
  },
  {
   "cell_type": "code",
   "execution_count": 2,
   "id": "b2287758",
   "metadata": {},
   "outputs": [
    {
     "name": "stdout",
     "output_type": "stream",
     "text": [
      "QTM@quantrimang.com\n"
     ]
    },
    {
     "ename": "AttributeError",
     "evalue": "'NoneType' object has no attribute 'group'",
     "output_type": "error",
     "traceback": [
      "\u001b[0;31m---------------------------------------------------------------------------\u001b[0m",
      "\u001b[0;31mAttributeError\u001b[0m                            Traceback (most recent call last)",
      "\u001b[0;32m<ipython-input-2-5c02eed8afd2>\u001b[0m in \u001b[0;36m<module>\u001b[0;34m\u001b[0m\n\u001b[1;32m      3\u001b[0m \u001b[0mpat2\u001b[0m \u001b[0;34m=\u001b[0m \u001b[0;34m\"(\\w+)@((\\w+\\.)+(come))\"\u001b[0m\u001b[0;34m\u001b[0m\u001b[0;34m\u001b[0m\u001b[0m\n\u001b[1;32m      4\u001b[0m \u001b[0mre2\u001b[0m \u001b[0;34m=\u001b[0m \u001b[0mre\u001b[0m\u001b[0;34m.\u001b[0m\u001b[0mmatch\u001b[0m\u001b[0;34m(\u001b[0m\u001b[0mpat2\u001b[0m\u001b[0;34m,\u001b[0m\u001b[0memailAddress\u001b[0m\u001b[0;34m)\u001b[0m\u001b[0;34m\u001b[0m\u001b[0;34m\u001b[0m\u001b[0m\n\u001b[0;32m----> 5\u001b[0;31m \u001b[0mprint\u001b[0m \u001b[0;34m(\u001b[0m\u001b[0mre2\u001b[0m\u001b[0;34m.\u001b[0m\u001b[0mgroup\u001b[0m\u001b[0;34m(\u001b[0m\u001b[0;36m1\u001b[0m\u001b[0;34m)\u001b[0m\u001b[0;34m)\u001b[0m\u001b[0;34m\u001b[0m\u001b[0;34m\u001b[0m\u001b[0m\n\u001b[0m",
      "\u001b[0;31mAttributeError\u001b[0m: 'NoneType' object has no attribute 'group'"
     ]
    }
   ],
   "source": [
    "import re\n",
    "emailAddress = input()\n",
    "pat2 = \"(\\w+)@((\\w+\\.)+(come))\"\n",
    "re2 = re.match(pat2,emailAddress)\n",
    "print (re2.group(1))"
   ]
  },
  {
   "cell_type": "code",
   "execution_count": null,
   "id": "2e0c4baf",
   "metadata": {},
   "outputs": [],
   "source": []
  },
  {
   "cell_type": "code",
   "execution_count": null,
   "id": "3f69db23",
   "metadata": {},
   "outputs": [],
   "source": []
  },
  {
   "cell_type": "code",
   "execution_count": null,
   "id": "837d25ba",
   "metadata": {},
   "outputs": [],
   "source": []
  },
  {
   "cell_type": "code",
   "execution_count": null,
   "id": "902a6d62",
   "metadata": {},
   "outputs": [],
   "source": []
  },
  {
   "cell_type": "code",
   "execution_count": null,
   "id": "8c145f10",
   "metadata": {},
   "outputs": [],
   "source": []
  },
  {
   "cell_type": "code",
   "execution_count": null,
   "id": "12fbe4ee",
   "metadata": {},
   "outputs": [],
   "source": []
  },
  {
   "cell_type": "code",
   "execution_count": null,
   "id": "ab975e9f",
   "metadata": {},
   "outputs": [],
   "source": []
  }
 ],
 "metadata": {
  "kernelspec": {
   "display_name": "Python 3",
   "language": "python",
   "name": "python3"
  },
  "language_info": {
   "codemirror_mode": {
    "name": "ipython",
    "version": 3
   },
   "file_extension": ".py",
   "mimetype": "text/x-python",
   "name": "python",
   "nbconvert_exporter": "python",
   "pygments_lexer": "ipython3",
   "version": "3.7.10"
  }
 },
 "nbformat": 4,
 "nbformat_minor": 5
}
